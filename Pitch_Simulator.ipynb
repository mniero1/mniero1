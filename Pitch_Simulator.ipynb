{
 "cells": [
  {
   "cell_type": "code",
   "execution_count": 15,
   "id": "26df9a18-1d03-42b1-b030-6d34135da391",
   "metadata": {},
   "outputs": [
    {
     "name": "stdout",
     "output_type": "stream",
     "text": [
      "Welcome to the baseball pitch simulator!\n"
     ]
    },
    {
     "name": "stdin",
     "output_type": "stream",
     "text": [
      "Choose a pitch (fastball, changeup, curveball):  changeup\n"
     ]
    },
    {
     "name": "stdout",
     "output_type": "stream",
     "text": [
      "You threw a changeup. It's a strike! Strikes: 1, Balls: 0\n"
     ]
    },
    {
     "name": "stdin",
     "output_type": "stream",
     "text": [
      "Choose a pitch (fastball, changeup, curveball):  fastball\n"
     ]
    },
    {
     "name": "stdout",
     "output_type": "stream",
     "text": [
      "You threw a fastball. It's a ball! Strikes: 1, Balls: 1\n"
     ]
    },
    {
     "name": "stdin",
     "output_type": "stream",
     "text": [
      "Choose a pitch (fastball, changeup, curveball):  changeup\n"
     ]
    },
    {
     "name": "stdout",
     "output_type": "stream",
     "text": [
      "You threw a changeup. It's a ball! Strikes: 1, Balls: 2\n"
     ]
    },
    {
     "name": "stdin",
     "output_type": "stream",
     "text": [
      "Choose a pitch (fastball, changeup, curveball):  fastball\n"
     ]
    },
    {
     "name": "stdout",
     "output_type": "stream",
     "text": [
      "You threw a fastball. It's a ball! Strikes: 1, Balls: 3\n"
     ]
    },
    {
     "name": "stdin",
     "output_type": "stream",
     "text": [
      "Choose a pitch (fastball, changeup, curveball):  fastball\n"
     ]
    },
    {
     "name": "stdout",
     "output_type": "stream",
     "text": [
      "You threw a fastball. It's a ball! Strikes: 1, Balls: 4\n",
      "Walk! The batter gets to go to first base.\n"
     ]
    }
   ],
   "source": [
    "import random\n",
    "\n",
    "def pitch_simulation():\n",
    "    \"\"\"\n",
    "    Simulates a baseball at-bat where the user (pitcher) continues to pitch until a strikeout or a walk.\n",
    "    The pitch result (strike or ball) is determined by the strike rate of the chosen pitch.\n",
    "    \"\"\"\n",
    "    print(\"Welcome to the baseball pitch simulator!\")\n",
    "\n",
    "    # Define strike rates for each pitch\n",
    "    pitches = {\n",
    "        'fastball': 0.60,   # 60% strike rate\n",
    "        'changeup': 0.40,   # 40% strike rate\n",
    "        'curveball': 0.30   # 30% strike rate\n",
    "    }\n",
    "    \n",
    "    # Initialize strike and ball counts\n",
    "    strikes = 0\n",
    "    balls = 0\n",
    "    \n",
    "    # Keep pitching until there are 3 strikes (strikeout) or 4 balls (walk)\n",
    "    while strikes < 3 and balls < 4:\n",
    "        # Prompt the user to select a pitch\n",
    "        pitch_choice = input(\"Choose a pitch (fastball, changeup, curveball): \").lower()\n",
    "\n",
    "        # Ensure the user selects a valid pitch\n",
    "        if pitch_choice not in pitches:\n",
    "            print(\"Invalid pitch choice! Please choose fastball, changeup, or curveball.\")\n",
    "            continue\n",
    "        \n",
    "        # Simulate whether the pitch results in a strike or ball\n",
    "        strike_rate = pitches[pitch_choice]\n",
    "        pitch_result = random.random()  # Random number between 0 and 1\n",
    "        \n",
    "        if pitch_result <= strike_rate:\n",
    "            strikes += 1\n",
    "            print(f\"You threw a {pitch_choice}. It's a strike! Strikes: {strikes}, Balls: {balls}\")\n",
    "        else:\n",
    "            balls += 1\n",
    "            print(f\"You threw a {pitch_choice}. It's a ball! Strikes: {strikes}, Balls: {balls}\")\n",
    "    \n",
    "    # Determine if the batter struck out or walked\n",
    "    if strikes == 3:\n",
    "        print(\"Strikeout! You got the batter out.\")\n",
    "    elif balls == 4:\n",
    "        print(\"Walk! The batter gets to go to first base.\")\n",
    "\n",
    "# Run the simulation\n",
    "pitch_simulation()\n"
   ]
  },
  {
   "cell_type": "code",
   "execution_count": null,
   "id": "b8e17fa0-4956-4e6a-ab45-9f1342e2c8bd",
   "metadata": {},
   "outputs": [],
   "source": []
  }
 ],
 "metadata": {
  "kernelspec": {
   "display_name": "Python 3 (ipykernel)",
   "language": "python",
   "name": "python3"
  },
  "language_info": {
   "codemirror_mode": {
    "name": "ipython",
    "version": 3
   },
   "file_extension": ".py",
   "mimetype": "text/x-python",
   "name": "python",
   "nbconvert_exporter": "python",
   "pygments_lexer": "ipython3",
   "version": "3.12.4"
  }
 },
 "nbformat": 4,
 "nbformat_minor": 5
}
